{
 "cells": [
  {
   "cell_type": "code",
   "execution_count": 1,
   "id": "4e939d00",
   "metadata": {},
   "outputs": [
    {
     "name": "stdout",
     "output_type": "stream",
     "text": [
      "Requirement already satisfied: numpy in /Users/chinmay/anaconda3/lib/python3.11/site-packages (1.24.3)\r\n"
     ]
    }
   ],
   "source": [
    "!pip install numpy"
   ]
  },
  {
   "cell_type": "code",
   "execution_count": 2,
   "id": "e96dd5d3",
   "metadata": {},
   "outputs": [],
   "source": [
    "import numpy as np"
   ]
  },
  {
   "cell_type": "markdown",
   "id": "53dd086e",
   "metadata": {},
   "source": [
    "# 1.converting list into arraty and assing numpy array"
   ]
  },
  {
   "cell_type": "code",
   "execution_count": 18,
   "id": "13c065da",
   "metadata": {},
   "outputs": [
    {
     "name": "stdout",
     "output_type": "stream",
     "text": [
      "<class 'list'>\n",
      "<class 'numpy.ndarray'>\n",
      "[[1 2 3 4 5 6]]\n"
     ]
    }
   ],
   "source": [
    "lst=[1,2,3,4,5,6]\n",
    "print(type(lst))\n",
    "arr=np.array(lst)\n",
    "print(type(arr))\n",
    "arr=np.array(lst,ndmin=2)\n",
    "print(arr)"
   ]
  },
  {
   "cell_type": "markdown",
   "id": "b420c4ad",
   "metadata": {},
   "source": [
    "# 2.arange function"
   ]
  },
  {
   "cell_type": "code",
   "execution_count": 26,
   "id": "c509229b",
   "metadata": {},
   "outputs": [
    {
     "name": "stdout",
     "output_type": "stream",
     "text": [
      "[ 0  2  4  6  8 10 12 14 16 18 20 22]\n"
     ]
    }
   ],
   "source": [
    "arr=np.arange(0,24,2)\n",
    "print(arr)"
   ]
  },
  {
   "cell_type": "markdown",
   "id": "2a2cc311",
   "metadata": {},
   "source": [
    "# 3.Multidimensional Arrays"
   ]
  },
  {
   "cell_type": "code",
   "execution_count": 28,
   "id": "d0d39c1f",
   "metadata": {},
   "outputs": [
    {
     "name": "stdout",
     "output_type": "stream",
     "text": [
      "[[ 1  2  3]\n",
      " [ 4  5  6]\n",
      " [ 7  8  9]\n",
      " [10 11 12]]\n"
     ]
    }
   ],
   "source": [
    "arr=np.array([[1,2,3],[4,5,6],[7,8,9],[10,11,12]])\n",
    "print(arr)"
   ]
  },
  {
   "cell_type": "markdown",
   "id": "26ea2a49",
   "metadata": {},
   "source": [
    "# 4. Size function"
   ]
  },
  {
   "cell_type": "code",
   "execution_count": 30,
   "id": "57fa65b9",
   "metadata": {},
   "outputs": [
    {
     "name": "stdout",
     "output_type": "stream",
     "text": [
      "12\n",
      "12\n",
      "4\n",
      "3\n"
     ]
    }
   ],
   "source": [
    "print(arr.size)\n",
    "print(np.size(arr))\n",
    "print(np.size(arr,0))#no.of rows\n",
    "print(np.size(arr,1))#no. of colums"
   ]
  },
  {
   "cell_type": "markdown",
   "id": "0fe6b0a3",
   "metadata": {},
   "source": [
    "# 5.Shape Function and Dtype"
   ]
  },
  {
   "cell_type": "code",
   "execution_count": 33,
   "id": "b7a1c714",
   "metadata": {},
   "outputs": [
    {
     "name": "stdout",
     "output_type": "stream",
     "text": [
      "(4, 3)\n",
      "int64\n"
     ]
    }
   ],
   "source": [
    "print(np.shape(arr))\n",
    "print(arr.dtype)"
   ]
  },
  {
   "cell_type": "markdown",
   "id": "adf8e41a",
   "metadata": {},
   "source": [
    "# 6.Ndim"
   ]
  },
  {
   "cell_type": "code",
   "execution_count": 35,
   "id": "2edf9edd",
   "metadata": {},
   "outputs": [
    {
     "name": "stdout",
     "output_type": "stream",
     "text": [
      "2\n",
      "2\n"
     ]
    }
   ],
   "source": [
    "print(arr.ndim)\n",
    "#OR\n",
    "print(np.ndim(arr))"
   ]
  },
  {
   "cell_type": "markdown",
   "id": "1820519e",
   "metadata": {},
   "source": [
    "# 7.Zeros and Ones fn"
   ]
  },
  {
   "cell_type": "code",
   "execution_count": 42,
   "id": "1ef417bd",
   "metadata": {},
   "outputs": [
    {
     "name": "stdout",
     "output_type": "stream",
     "text": [
      "[[0 0 0 0]\n",
      " [0 0 0 0]\n",
      " [0 0 0 0]]\n",
      "[[0. 0. 0. 0.]\n",
      " [0. 0. 0. 0.]\n",
      " [0. 0. 0. 0.]]\n",
      "[[1 1 1 1]\n",
      " [1 1 1 1]\n",
      " [1 1 1 1]]\n",
      "[[1. 1. 1. 1.]\n",
      " [1. 1. 1. 1.]\n",
      " [1. 1. 1. 1.]]\n"
     ]
    }
   ],
   "source": [
    "zeros=np.zeros((3,4),int)\n",
    "print(zeros)\n",
    "zeros1=np.zeros((3,4),float)\n",
    "print(zeros1)\n",
    "ones=np.ones((3,4),int)\n",
    "print(ones)\n",
    "ones1=np.ones((3,4),float)\n",
    "print(ones1)"
   ]
  },
  {
   "cell_type": "markdown",
   "id": "bda360af",
   "metadata": {},
   "source": [
    "# 8.Eye fn"
   ]
  },
  {
   "cell_type": "code",
   "execution_count": 44,
   "id": "02ea098f",
   "metadata": {},
   "outputs": [
    {
     "name": "stdout",
     "output_type": "stream",
     "text": [
      "[[1 0 0]\n",
      " [0 1 0]\n",
      " [0 0 1]]\n"
     ]
    }
   ],
   "source": [
    "#to create identity matrix\n",
    "I=np.eye(3,dtype=int)\n",
    "print(I)"
   ]
  },
  {
   "cell_type": "markdown",
   "id": "cdcf4789",
   "metadata": {},
   "source": [
    "# 9.empty fn"
   ]
  },
  {
   "cell_type": "code",
   "execution_count": 50,
   "id": "4a115c9b",
   "metadata": {},
   "outputs": [
    {
     "name": "stdout",
     "output_type": "stream",
     "text": [
      "[[1. 1. 1. 1.]\n",
      " [1. 1. 1. 1.]\n",
      " [1. 1. 1. 1.]]\n"
     ]
    }
   ],
   "source": [
    "arr=np.empty(shape=(3,4))\n",
    "print(arr)"
   ]
  },
  {
   "cell_type": "markdown",
   "id": "cbd5b755",
   "metadata": {},
   "source": [
    "# 10. Random Fns"
   ]
  },
  {
   "cell_type": "code",
   "execution_count": 3,
   "id": "abf1c31d",
   "metadata": {},
   "outputs": [
    {
     "data": {
      "text/plain": [
       "array([[0.81178196, 0.76035082, 0.34836244, 0.24124474],\n",
       "       [0.119177  , 0.90452275, 0.1174752 , 0.86200091],\n",
       "       [0.87426712, 0.59209938, 0.16794257, 0.35164679]])"
      ]
     },
     "execution_count": 3,
     "metadata": {},
     "output_type": "execute_result"
    }
   ],
   "source": [
    "arr=np.random.rand(3,4)\n",
    "arr"
   ]
  },
  {
   "cell_type": "code",
   "execution_count": 6,
   "id": "d24667a8",
   "metadata": {},
   "outputs": [
    {
     "data": {
      "text/plain": [
       "array([7, 5, 8, 6, 6, 8, 4, 7, 1, 8])"
      ]
     },
     "execution_count": 6,
     "metadata": {},
     "output_type": "execute_result"
    }
   ],
   "source": [
    "arr=np.random.randint(1,10,10)\n",
    "arr"
   ]
  },
  {
   "cell_type": "code",
   "execution_count": 9,
   "id": "354d6f3b",
   "metadata": {},
   "outputs": [
    {
     "data": {
      "text/plain": [
       "array([ 0.27574338, -0.29673815,  0.70825427, -0.82544901,  0.81454328,\n",
       "        1.62106931,  0.13839809,  1.77940923, -0.52416949, -0.7512025 ])"
      ]
     },
     "execution_count": 9,
     "metadata": {},
     "output_type": "execute_result"
    }
   ],
   "source": [
    "arr=np.random.randn(10)\n",
    "arr"
   ]
  },
  {
   "cell_type": "markdown",
   "id": "fd182794",
   "metadata": {},
   "source": [
    "# 11.Reshape\n"
   ]
  },
  {
   "cell_type": "code",
   "execution_count": 42,
   "id": "ee3a4567",
   "metadata": {},
   "outputs": [
    {
     "data": {
      "text/plain": [
       "array([[7, 2, 5, 6],\n",
       "       [8, 2, 7, 3],\n",
       "       [7, 3, 7, 8]])"
      ]
     },
     "execution_count": 42,
     "metadata": {},
     "output_type": "execute_result"
    }
   ],
   "source": [
    "arr=np.random.randint(1,10,(3,4))\n",
    "arr"
   ]
  },
  {
   "cell_type": "code",
   "execution_count": 13,
   "id": "3fc2d31f",
   "metadata": {},
   "outputs": [
    {
     "data": {
      "text/plain": [
       "array([[2, 6],\n",
       "       [7, 2],\n",
       "       [7, 2],\n",
       "       [2, 4],\n",
       "       [3, 9],\n",
       "       [6, 5]])"
      ]
     },
     "execution_count": 13,
     "metadata": {},
     "output_type": "execute_result"
    }
   ],
   "source": [
    "arr=arr.reshape(6,2)\n",
    "arr"
   ]
  },
  {
   "cell_type": "markdown",
   "id": "747d970e",
   "metadata": {},
   "source": [
    "# 12.linspace and logspace"
   ]
  },
  {
   "cell_type": "code",
   "execution_count": 15,
   "id": "7baf8961",
   "metadata": {},
   "outputs": [
    {
     "data": {
      "text/plain": [
       "array([ 1. ,  2.5,  4. ,  5.5,  7. ,  8.5, 10. ])"
      ]
     },
     "execution_count": 15,
     "metadata": {},
     "output_type": "execute_result"
    }
   ],
   "source": [
    "arr=np.linspace(1,10,7)\n",
    "arr"
   ]
  },
  {
   "cell_type": "code",
   "execution_count": 19,
   "id": "066612eb",
   "metadata": {},
   "outputs": [
    {
     "data": {
      "text/plain": [
       "array([2.00000000e+00, 8.64047791e+00, 3.73289293e+01, 1.61269894e+02,\n",
       "       6.96724480e+02, 3.01001624e+03, 1.30039894e+04, 5.61803417e+04,\n",
       "       2.42712501e+05, 1.04857600e+06])"
      ]
     },
     "execution_count": 19,
     "metadata": {},
     "output_type": "execute_result"
    }
   ],
   "source": [
    "arr=np.logspace(1,20,10,base=2)#works without base also\n",
    "arr"
   ]
  },
  {
   "cell_type": "markdown",
   "id": "8a09fb75",
   "metadata": {},
   "source": [
    "# 13.flatten"
   ]
  },
  {
   "cell_type": "code",
   "execution_count": 77,
   "id": "af94c3a2",
   "metadata": {},
   "outputs": [
    {
     "data": {
      "text/plain": [
       "array([9, 4, 9, 9, 1, 6, 4, 6, 8, 7, 1, 5])"
      ]
     },
     "execution_count": 77,
     "metadata": {},
     "output_type": "execute_result"
    }
   ],
   "source": [
    "arr=arr.flatten()#flatten the array used in reshape function\n",
    "arr"
   ]
  },
  {
   "cell_type": "markdown",
   "id": "4ad179eb",
   "metadata": {},
   "source": [
    "# 14.copy"
   ]
  },
  {
   "cell_type": "code",
   "execution_count": 24,
   "id": "c54e3d48",
   "metadata": {},
   "outputs": [
    {
     "data": {
      "text/plain": [
       "array([5, 4, 3, 7, 7, 8, 4, 8, 9, 3, 4, 4])"
      ]
     },
     "execution_count": 24,
     "metadata": {},
     "output_type": "execute_result"
    }
   ],
   "source": [
    "arr"
   ]
  },
  {
   "cell_type": "code",
   "execution_count": 25,
   "id": "9b76230c",
   "metadata": {},
   "outputs": [
    {
     "data": {
      "text/plain": [
       "array([5, 4, 3, 7, 7, 8, 4, 8, 9, 3, 4, 4])"
      ]
     },
     "execution_count": 25,
     "metadata": {},
     "output_type": "execute_result"
    }
   ],
   "source": [
    "arr1=np.copy(arr)\n",
    "arr1"
   ]
  },
  {
   "cell_type": "code",
   "execution_count": 26,
   "id": "2ab7de96",
   "metadata": {},
   "outputs": [
    {
     "name": "stdout",
     "output_type": "stream",
     "text": [
      "4453274544\n",
      "4463573296\n"
     ]
    }
   ],
   "source": [
    "print(id(arr))\n",
    "print(id(arr1)) #difference in the id of each array"
   ]
  },
  {
   "cell_type": "markdown",
   "id": "aacee150",
   "metadata": {},
   "source": [
    "# 15.Max ,Min ,Sum"
   ]
  },
  {
   "cell_type": "code",
   "execution_count": 33,
   "id": "e690b092",
   "metadata": {},
   "outputs": [
    {
     "data": {
      "text/plain": [
       "9"
      ]
     },
     "execution_count": 33,
     "metadata": {},
     "output_type": "execute_result"
    }
   ],
   "source": [
    "arr1.max()"
   ]
  },
  {
   "cell_type": "code",
   "execution_count": 35,
   "id": "b0e40565",
   "metadata": {},
   "outputs": [
    {
     "data": {
      "text/plain": [
       "3"
      ]
     },
     "execution_count": 35,
     "metadata": {},
     "output_type": "execute_result"
    }
   ],
   "source": [
    "arr1.min()"
   ]
  },
  {
   "cell_type": "code",
   "execution_count": 36,
   "id": "f5c636a7",
   "metadata": {},
   "outputs": [
    {
     "data": {
      "text/plain": [
       "66"
      ]
     },
     "execution_count": 36,
     "metadata": {},
     "output_type": "execute_result"
    }
   ],
   "source": [
    "arr1.sum()"
   ]
  },
  {
   "cell_type": "code",
   "execution_count": 43,
   "id": "204a009e",
   "metadata": {},
   "outputs": [
    {
     "data": {
      "text/plain": [
       "array([[7, 2, 5, 6],\n",
       "       [8, 2, 7, 3],\n",
       "       [7, 3, 7, 8]])"
      ]
     },
     "execution_count": 43,
     "metadata": {},
     "output_type": "execute_result"
    }
   ],
   "source": [
    "arr"
   ]
  },
  {
   "cell_type": "code",
   "execution_count": 44,
   "id": "24f45645",
   "metadata": {},
   "outputs": [
    {
     "data": {
      "text/plain": [
       "array([8, 3, 7, 8])"
      ]
     },
     "execution_count": 44,
     "metadata": {},
     "output_type": "execute_result"
    }
   ],
   "source": [
    "arr.max(axis=0)"
   ]
  },
  {
   "cell_type": "code",
   "execution_count": 45,
   "id": "aa9f5a3d",
   "metadata": {},
   "outputs": [
    {
     "data": {
      "text/plain": [
       "array([2, 2, 3])"
      ]
     },
     "execution_count": 45,
     "metadata": {},
     "output_type": "execute_result"
    }
   ],
   "source": [
    "arr.min(axis=1)"
   ]
  },
  {
   "cell_type": "code",
   "execution_count": 46,
   "id": "57b32c60",
   "metadata": {},
   "outputs": [
    {
     "name": "stdout",
     "output_type": "stream",
     "text": [
      "[22  7 19 17]\n",
      "[20 20 25]\n"
     ]
    }
   ],
   "source": [
    "print(arr.sum(axis=0))#column\n",
    "print(arr.sum(axis=1))#row"
   ]
  },
  {
   "cell_type": "markdown",
   "id": "183d17ce",
   "metadata": {},
   "source": [
    "# 16.seed"
   ]
  },
  {
   "cell_type": "code",
   "execution_count": 65,
   "id": "c15ff64c",
   "metadata": {},
   "outputs": [
    {
     "name": "stdout",
     "output_type": "stream",
     "text": [
      "[[9 4 9 9]\n",
      " [1 6 4 6]\n",
      " [8 7 1 5]]\n"
     ]
    }
   ],
   "source": [
    "np.random.seed(3)\n",
    "arr=np.random.randint(1,10,(3,4))\n",
    "print(arr)"
   ]
  },
  {
   "cell_type": "markdown",
   "id": "e6f38b65",
   "metadata": {},
   "source": [
    "# 17.Sort"
   ]
  },
  {
   "cell_type": "code",
   "execution_count": 66,
   "id": "2f83a40c",
   "metadata": {},
   "outputs": [
    {
     "data": {
      "text/plain": [
       "array([[9, 4, 9, 9],\n",
       "       [1, 6, 4, 6],\n",
       "       [8, 7, 1, 5]])"
      ]
     },
     "execution_count": 66,
     "metadata": {},
     "output_type": "execute_result"
    }
   ],
   "source": [
    "arr"
   ]
  },
  {
   "cell_type": "code",
   "execution_count": 67,
   "id": "bb1cd60a",
   "metadata": {},
   "outputs": [
    {
     "data": {
      "text/plain": [
       "array([[4, 9, 9, 9],\n",
       "       [1, 4, 6, 6],\n",
       "       [1, 5, 7, 8]])"
      ]
     },
     "execution_count": 67,
     "metadata": {},
     "output_type": "execute_result"
    }
   ],
   "source": [
    "np.sort(arr)#row sort"
   ]
  },
  {
   "cell_type": "code",
   "execution_count": 69,
   "id": "21399355",
   "metadata": {},
   "outputs": [
    {
     "data": {
      "text/plain": [
       "array([[1, 4, 1, 5],\n",
       "       [8, 6, 4, 6],\n",
       "       [9, 7, 9, 9]])"
      ]
     },
     "execution_count": 69,
     "metadata": {},
     "output_type": "execute_result"
    }
   ],
   "source": [
    "np.sort(arr,0)#Column sort"
   ]
  },
  {
   "cell_type": "code",
   "execution_count": 71,
   "id": "db22208f",
   "metadata": {},
   "outputs": [
    {
     "data": {
      "text/plain": [
       "array([[4, 9, 9, 9],\n",
       "       [1, 4, 6, 6],\n",
       "       [1, 5, 7, 8]])"
      ]
     },
     "execution_count": 71,
     "metadata": {},
     "output_type": "execute_result"
    }
   ],
   "source": [
    "np.sort(arr,1,kind=\"mergsort\")"
   ]
  },
  {
   "cell_type": "markdown",
   "id": "dfa2cfe7",
   "metadata": {},
   "source": [
    "# 15.percentile"
   ]
  },
  {
   "cell_type": "code",
   "execution_count": 79,
   "id": "e153a2fd",
   "metadata": {},
   "outputs": [],
   "source": [
    "arr.sort()"
   ]
  },
  {
   "cell_type": "code",
   "execution_count": 80,
   "id": "4f2c644c",
   "metadata": {},
   "outputs": [
    {
     "data": {
      "text/plain": [
       "9.0"
      ]
     },
     "execution_count": 80,
     "metadata": {},
     "output_type": "execute_result"
    }
   ],
   "source": [
    "np.percentile(arr,100)"
   ]
  },
  {
   "cell_type": "markdown",
   "id": "e90d12a2",
   "metadata": {},
   "source": [
    "# 16.Statastics"
   ]
  },
  {
   "cell_type": "markdown",
   "id": "748bff72",
   "metadata": {},
   "source": [
    "# Mean"
   ]
  },
  {
   "cell_type": "code",
   "execution_count": 84,
   "id": "3d19e036",
   "metadata": {},
   "outputs": [
    {
     "data": {
      "text/plain": [
       "array([9, 4, 9, 9, 1, 6, 4, 6, 8, 7])"
      ]
     },
     "execution_count": 84,
     "metadata": {},
     "output_type": "execute_result"
    }
   ],
   "source": [
    "np.random.seed(3)\n",
    "arr=np.random.randint(1,10,10)\n",
    "arr"
   ]
  },
  {
   "cell_type": "code",
   "execution_count": 85,
   "id": "9f5904c7",
   "metadata": {},
   "outputs": [
    {
     "data": {
      "text/plain": [
       "6.3"
      ]
     },
     "execution_count": 85,
     "metadata": {},
     "output_type": "execute_result"
    }
   ],
   "source": [
    "np.mean(arr)"
   ]
  },
  {
   "cell_type": "markdown",
   "id": "742967e4",
   "metadata": {},
   "source": [
    "# variance "
   ]
  },
  {
   "cell_type": "code",
   "execution_count": 86,
   "id": "50e3c4fc",
   "metadata": {},
   "outputs": [
    {
     "data": {
      "text/plain": [
       "6.410000000000001"
      ]
     },
     "execution_count": 86,
     "metadata": {},
     "output_type": "execute_result"
    }
   ],
   "source": [
    "np.var(arr)"
   ]
  },
  {
   "cell_type": "markdown",
   "id": "07a85b75",
   "metadata": {},
   "source": [
    "# Standard deviation"
   ]
  },
  {
   "cell_type": "code",
   "execution_count": 87,
   "id": "f8c16df1",
   "metadata": {},
   "outputs": [
    {
     "data": {
      "text/plain": [
       "2.5317977802344327"
      ]
     },
     "execution_count": 87,
     "metadata": {},
     "output_type": "execute_result"
    }
   ],
   "source": [
    "np.std(arr)"
   ]
  },
  {
   "cell_type": "markdown",
   "id": "0bddf184",
   "metadata": {},
   "source": [
    "# 17.filtering "
   ]
  },
  {
   "cell_type": "code",
   "execution_count": 88,
   "id": "b745c350",
   "metadata": {},
   "outputs": [],
   "source": [
    "arr=np.random.randint(1,10,20)"
   ]
  },
  {
   "cell_type": "code",
   "execution_count": 89,
   "id": "af47eea8",
   "metadata": {},
   "outputs": [
    {
     "data": {
      "text/plain": [
       "array([1, 5, 8, 9, 2, 7, 3, 3, 2, 4, 6, 9, 2, 9, 8, 9, 2, 1, 6, 5])"
      ]
     },
     "execution_count": 89,
     "metadata": {},
     "output_type": "execute_result"
    }
   ],
   "source": [
    "arr"
   ]
  },
  {
   "cell_type": "code",
   "execution_count": 90,
   "id": "bc5076cc",
   "metadata": {},
   "outputs": [
    {
     "data": {
      "text/plain": [
       "array([8, 9, 7, 6, 9, 9, 8, 9, 6])"
      ]
     },
     "execution_count": 90,
     "metadata": {},
     "output_type": "execute_result"
    }
   ],
   "source": [
    "arr[arr>5]"
   ]
  },
  {
   "cell_type": "markdown",
   "id": "67b7fc17",
   "metadata": {},
   "source": [
    "# 18.Transpose"
   ]
  },
  {
   "cell_type": "code",
   "execution_count": 94,
   "id": "c39d46b0",
   "metadata": {},
   "outputs": [
    {
     "name": "stdout",
     "output_type": "stream",
     "text": [
      "[[9 4 9 9]\n",
      " [1 6 4 6]\n",
      " [8 7 1 5]]\n",
      "[[9 1 8]\n",
      " [4 6 7]\n",
      " [9 4 1]\n",
      " [9 6 5]]\n"
     ]
    }
   ],
   "source": [
    "np.random.seed(3)\n",
    "arr=np.random.randint(1,10,(3,4))\n",
    "print(arr)\n",
    "print(arr.T)"
   ]
  },
  {
   "cell_type": "markdown",
   "id": "5ce9e640",
   "metadata": {},
   "source": [
    "# 19.where Fn"
   ]
  },
  {
   "cell_type": "code",
   "execution_count": 95,
   "id": "6eb03b83",
   "metadata": {},
   "outputs": [
    {
     "data": {
      "text/plain": [
       "array([['9', 'even', '9', '9'],\n",
       "       ['1', 'even', 'even', 'even'],\n",
       "       ['even', '7', '1', '5']], dtype='<U21')"
      ]
     },
     "execution_count": 95,
     "metadata": {},
     "output_type": "execute_result"
    }
   ],
   "source": [
    "arr=np.where(arr%2==0,\"even\",arr)\n",
    "arr"
   ]
  },
  {
   "cell_type": "markdown",
   "id": "dd18512b",
   "metadata": {},
   "source": [
    "# 20.merging arrays"
   ]
  },
  {
   "cell_type": "code",
   "execution_count": 96,
   "id": "1bbbe6ba",
   "metadata": {},
   "outputs": [
    {
     "ename": "NameError",
     "evalue": "name 'arr2' is not defined",
     "output_type": "error",
     "traceback": [
      "\u001b[0;31m---------------------------------------------------------------------------\u001b[0m",
      "\u001b[0;31mNameError\u001b[0m                                 Traceback (most recent call last)",
      "Cell \u001b[0;32mIn[96], line 1\u001b[0m\n\u001b[0;32m----> 1\u001b[0m np\u001b[38;5;241m.\u001b[39mconcatenate((arr1,arr2),axis\u001b[38;5;241m=\u001b[39m\u001b[38;5;241m0\u001b[39m)\n",
      "\u001b[0;31mNameError\u001b[0m: name 'arr2' is not defined"
     ]
    }
   ],
   "source": [
    "np.concatenate((arr1,arr2),axis=0)\n",
    "np.vstack\n",
    "np.hstack"
   ]
  },
  {
   "cell_type": "markdown",
   "id": "1d91e94f",
   "metadata": {},
   "source": [
    "# 21.splitting arrays"
   ]
  },
  {
   "cell_type": "code",
   "execution_count": 103,
   "id": "91074706",
   "metadata": {},
   "outputs": [
    {
     "data": {
      "text/plain": [
       "[array([['9', 'even', '9', '9']], dtype='<U21'),\n",
       " array([['1', 'even', 'even', 'even']], dtype='<U21'),\n",
       " array([['even', '7', '1', '5']], dtype='<U21')]"
      ]
     },
     "execution_count": 103,
     "metadata": {},
     "output_type": "execute_result"
    }
   ],
   "source": [
    "np.vsplit(arr,3)"
   ]
  },
  {
   "cell_type": "markdown",
   "id": "7cfa0310",
   "metadata": {},
   "source": [
    "# Images into array"
   ]
  },
  {
   "cell_type": "code",
   "execution_count": 104,
   "id": "201d88de",
   "metadata": {},
   "outputs": [],
   "source": [
    "from matplotlib.image import imread"
   ]
  },
  {
   "cell_type": "code",
   "execution_count": 107,
   "id": "1275bd72",
   "metadata": {},
   "outputs": [],
   "source": [
    "img=imread(\"fit_code.png\")"
   ]
  },
  {
   "cell_type": "code",
   "execution_count": 109,
   "id": "710de5c3",
   "metadata": {},
   "outputs": [
    {
     "data": {
      "text/plain": [
       "(500, 500, 4)"
      ]
     },
     "execution_count": 109,
     "metadata": {},
     "output_type": "execute_result"
    }
   ],
   "source": [
    "img.shape"
   ]
  },
  {
   "cell_type": "code",
   "execution_count": 111,
   "id": "d3fdc839",
   "metadata": {},
   "outputs": [
    {
     "data": {
      "text/plain": [
       "1.0"
      ]
     },
     "execution_count": 111,
     "metadata": {},
     "output_type": "execute_result"
    }
   ],
   "source": [
    "img.max()"
   ]
  },
  {
   "cell_type": "code",
   "execution_count": 112,
   "id": "eb2ecb8c",
   "metadata": {},
   "outputs": [
    {
     "data": {
      "text/plain": [
       "0.0"
      ]
     },
     "execution_count": 112,
     "metadata": {},
     "output_type": "execute_result"
    }
   ],
   "source": [
    "img.min()"
   ]
  },
  {
   "cell_type": "code",
   "execution_count": null,
   "id": "91e99f41",
   "metadata": {},
   "outputs": [],
   "source": []
  }
 ],
 "metadata": {
  "kernelspec": {
   "display_name": "Python 3 (ipykernel)",
   "language": "python",
   "name": "python3"
  },
  "language_info": {
   "codemirror_mode": {
    "name": "ipython",
    "version": 3
   },
   "file_extension": ".py",
   "mimetype": "text/x-python",
   "name": "python",
   "nbconvert_exporter": "python",
   "pygments_lexer": "ipython3",
   "version": "3.11.5"
  }
 },
 "nbformat": 4,
 "nbformat_minor": 5
}
